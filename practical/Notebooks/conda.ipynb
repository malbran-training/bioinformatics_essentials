{
 "cells": [
  {
   "cell_type": "markdown",
   "metadata": {},
   "source": [
    "# Conda\n",
    "\n",
    "There are many bioinformatics software applications available for Linux and we have used many of these in this course (e.g. `samtools`, `bcftools`, `iqtree`, `roary` etc.). Many of these applications are complex and difficult to install. This is because often they dependend on and require other software applications and packages. This is complicated further when you have software applications that require different versions of the same software dependency. Consider `srst2` which has a dependency on python 2.7 and `ARIBA` which requires python 3.X or higher. How can you install both `srst2` and `ARIBA` on your computer and manage the conflicting python dependencies?\n",
    "\n",
    "One solution is to use a software package manager to help manage software installations and their dependencies. A package manager is a tool that automates the process of installing, updating, and removing software packages on your computer. One of the most common package managers is `conda`. Here we will demonstrate how to install `conda`, create `conda` environments and install bioinformatics software with `conda`."
   ]
  },
  {
   "cell_type": "markdown",
   "metadata": {},
   "source": [
    "## Installing conda\n",
    "\n",
    "A software distribution is a collection of software packages that are pre-built and pre-configured for use on a specific computer system. There are two available distributions of conda:\n",
    "\n",
    "* __miniconda__: a basic, lightweight installation (mostly just conda and Python)\n",
    "* __anaconda__: a larger distribution with more pre-installed packages (includes conda, Python and 250+ automatically installed, open-source scientific packages and their dependencies)\n",
    "\n",
    "Let's check if conda is installed:"
   ]
  },
  {
   "cell_type": "code",
   "execution_count": null,
   "metadata": {},
   "outputs": [],
   "source": [
    "conda --version"
   ]
  },
  {
   "cell_type": "markdown",
   "metadata": {},
   "source": [
    "In previous tutorials conda was installed for the Linux user `manager`. As we have switched to a different user on the system (`bioinf`) you should see a message indicating that conda is not installed."
   ]
  },
  {
   "cell_type": "code",
   "execution_count": null,
   "metadata": {},
   "outputs": [],
   "source": [
    "Command 'conda' not found, did you mean:\n",
    "\n",
    "Try: sudo apt install <deb name>"
   ]
  },
  {
   "cell_type": "markdown",
   "metadata": {},
   "source": [
    "Now let's install _miniconda_, a lightweight distribution of conda. Detailed instructions for installing conda on a Linux system can be found at [https://docs.conda.io/projects/conda/en/latest/user-guide/install/linux.html](https://docs.conda.io/projects/conda/en/latest/user-guide/install/linux.html). \n",
    "\n",
    "In summary you need to run the following commands:"
   ]
  },
  {
   "cell_type": "markdown",
   "metadata": {},
   "source": [
    "1. Set up a directory in your home directory for miniconda:"
   ]
  },
  {
   "cell_type": "code",
   "execution_count": null,
   "metadata": {},
   "outputs": [],
   "source": [
    "mkdir -p ~/miniconda3"
   ]
  },
  {
   "cell_type": "markdown",
   "metadata": {},
   "source": [
    "2. Download the miniconda installation script and store in a file called `miniconda.sh` in the `~/miniconda3` directory:"
   ]
  },
  {
   "cell_type": "code",
   "execution_count": null,
   "metadata": {},
   "outputs": [],
   "source": [
    "wget https://repo.anaconda.com/miniconda/Miniconda3-latest-Linux-x86_64.sh \\\\\n",
    "-O ~/miniconda3/miniconda.sh"
   ]
  },
  {
   "cell_type": "markdown",
   "metadata": {},
   "source": [
    "3. Run the installation script:"
   ]
  },
  {
   "cell_type": "code",
   "execution_count": null,
   "metadata": {},
   "outputs": [],
   "source": [
    "bash ~/miniconda3/miniconda.sh -b -p ~/miniconda3"
   ]
  },
  {
   "cell_type": "markdown",
   "metadata": {},
   "source": [
    "Here `-b` and `-p` are options passed to the script `miniconda.sh`, `-b` means run the install in batch mode (without manual intervention) and `-p` specifies where on the computer to put the miniconda installation and in this case it will be stored in ~/mininconda3."
   ]
  },
  {
   "cell_type": "code",
   "execution_count": null,
   "metadata": {},
   "outputs": [],
   "source": [
    "ls ~/miniconda3"
   ]
  },
  {
   "cell_type": "markdown",
   "metadata": {},
   "source": [
    "4. Remove the installation script `~/miniconda3/miniconda.sh` as it is no longer required:"
   ]
  },
  {
   "cell_type": "code",
   "execution_count": null,
   "metadata": {},
   "outputs": [],
   "source": [
    "rm -rf ~/miniconda3/miniconda.sh"
   ]
  },
  {
   "cell_type": "markdown",
   "metadata": {},
   "source": [
    "5. Initialize your newly-installed Miniconda:"
   ]
  },
  {
   "cell_type": "code",
   "execution_count": null,
   "metadata": {},
   "outputs": [],
   "source": [
    "~/miniconda3/bin/conda init bash"
   ]
  },
  {
   "cell_type": "markdown",
   "metadata": {},
   "source": [
    "Now check if conda has installed:"
   ]
  },
  {
   "cell_type": "code",
   "execution_count": null,
   "metadata": {},
   "outputs": [],
   "source": [
    "conda --version"
   ]
  },
  {
   "cell_type": "markdown",
   "metadata": {},
   "source": [
    "If installed correctly, you should also see (_base_) at the start of your prompt in your terminal."
   ]
  },
  {
   "cell_type": "markdown",
   "metadata": {},
   "source": [
    "__Note:__ If you are installing conda on your own computer, the instructions may vary depending on what operating system you are using. Detailed installation instructions can be found at [https://docs.conda.io/projects/conda/en/latest/user-guide/install/index.html](https://docs.conda.io/projects/conda/en/latest/user-guide/install/index.html)"
   ]
  },
  {
   "cell_type": "markdown",
   "metadata": {},
   "source": [
    "## Conda channels\n",
    "\n",
    "There are many software packages available via conda and they are made available to users via channels. Conda channels are the online locations where packages are stored and serve as the base for hosting and managing packages. Examples of conda channels are `default` and `conda-forge` and many bioinformatics software packages are available in the `bioconda` channel. \n",
    "\n",
    "By default, conda will search the `default` channel for a software package."
   ]
  },
  {
   "cell_type": "code",
   "execution_count": null,
   "metadata": {},
   "outputs": [],
   "source": [
    "conda install bwa"
   ]
  },
  {
   "cell_type": "markdown",
   "metadata": {},
   "source": [
    "Conda fails to install `bwa` as it is not available in the `default` channel.\n",
    "\n",
    "If you want to install a software package from a specific channel you can specify the channel with the `-c` option of the `conda install` command. For example, to install bwa from the `bioconda` channel:"
   ]
  },
  {
   "cell_type": "code",
   "execution_count": null,
   "metadata": {},
   "outputs": [],
   "source": [
    "conda install -c bioconda bwa"
   ]
  },
  {
   "cell_type": "markdown",
   "metadata": {},
   "source": [
    "Alternatively you can configure and modify which channels are automatically searched by conda using the commands:"
   ]
  },
  {
   "cell_type": "code",
   "execution_count": null,
   "metadata": {},
   "outputs": [],
   "source": [
    "conda config --add channels default\n",
    "conda config --add channels bioconda\n",
    "conda config --add channels conda-forge"
   ]
  },
  {
   "cell_type": "markdown",
   "metadata": {},
   "source": [
    "This means that `conda` will first search the `default` channel, followed by the `bioconda` channel, followed by the `conda-forge` channel until it finds the given package. \n",
    "\n",
    "Try installing another bioinformatics software:"
   ]
  },
  {
   "cell_type": "code",
   "execution_count": null,
   "metadata": {},
   "outputs": [],
   "source": [
    "conda install mafft"
   ]
  },
  {
   "cell_type": "markdown",
   "metadata": {},
   "source": [
    "More information about Bioconda can be found at [https://bioconda.github.io/](https://bioconda.github.io/)"
   ]
  },
  {
   "cell_type": "markdown",
   "metadata": {},
   "source": [
    "## Installing software\n",
    "\n",
    "Some software packages will have dependencies in common where others will have dependencies that may conflict with each other. One approach to manage this is to install workflows or even individual software versions in their own environments.\n",
    "\n",
    "You can create a conda environment with:"
   ]
  },
  {
   "cell_type": "code",
   "execution_count": null,
   "metadata": {},
   "outputs": [],
   "source": [
    "conda create -n samtools-1.17 samtools=1.17"
   ]
  },
  {
   "cell_type": "markdown",
   "metadata": {},
   "source": [
    "This will create a conda environment (think of it as a box) and put `samtools` version 1.17 and all it's dependencies in the environment called `samtools-1.17`. You can name the environment anything but it is good practice to name it using a combination of the software name and version.\n",
    "\n",
    "Once the environment is created you can access the software by activating the environment that contains the software:"
   ]
  },
  {
   "cell_type": "code",
   "execution_count": null,
   "metadata": {},
   "outputs": [],
   "source": [
    "conda activate samtools-1.17"
   ]
  },
  {
   "cell_type": "markdown",
   "metadata": {},
   "source": [
    "The start of your terminal prompt will change from (base) to (samtools-1.17).\n",
    "\n",
    "Check that `samtools` is installed:"
   ]
  },
  {
   "cell_type": "code",
   "execution_count": null,
   "metadata": {},
   "outputs": [],
   "source": [
    "samtools -h"
   ]
  },
  {
   "cell_type": "markdown",
   "metadata": {},
   "source": [
    "To deactivate the environment and go back to the base environment:"
   ]
  },
  {
   "cell_type": "code",
   "execution_count": null,
   "metadata": {},
   "outputs": [],
   "source": [
    "conda deactivate"
   ]
  },
  {
   "cell_type": "markdown",
   "metadata": {},
   "source": [
    "To see the list of available environments:"
   ]
  },
  {
   "cell_type": "code",
   "execution_count": null,
   "metadata": {},
   "outputs": [],
   "source": [
    "conda info --envs"
   ]
  },
  {
   "cell_type": "markdown",
   "metadata": {},
   "source": [
    "To search for a particular environment:"
   ]
  },
  {
   "cell_type": "code",
   "execution_count": null,
   "metadata": {},
   "outputs": [],
   "source": [
    "conda info --envs | grep -i samtools"
   ]
  },
  {
   "cell_type": "markdown",
   "metadata": {},
   "source": [
    "To list all the software packages installed in a specific environment:"
   ]
  },
  {
   "cell_type": "code",
   "execution_count": null,
   "metadata": {},
   "outputs": [],
   "source": [
    "conda list -n samtools-1.17"
   ]
  },
  {
   "cell_type": "markdown",
   "metadata": {},
   "source": [
    "## Keeping conda up to date\n",
    "Conda and related software are often updated regularly so it is good to keep everything up to date. To update all software in the base conda environment you can use:"
   ]
  },
  {
   "cell_type": "code",
   "execution_count": null,
   "metadata": {},
   "outputs": [],
   "source": [
    "conda update --all"
   ]
  },
  {
   "cell_type": "markdown",
   "metadata": {},
   "source": [
    "## Cheatsheet\n",
    "\n",
    "A list of useful conda commands can be found at [https://docs.conda.io/projects/conda/en/stable/_downloads/843d9e0198f2a193a3484886fa28163c/conda-cheatsheet.pdf](https://docs.conda.io/projects/conda/en/stable/_downloads/843d9e0198f2a193a3484886fa28163c/conda-cheatsheet.pdf)"
   ]
  },
  {
   "cell_type": "markdown",
   "metadata": {},
   "source": [
    "## Exercises\n",
    "\n",
    "1. List all the software packages installed in the base environment \n",
    "2. List all the software packages installed in the samtools-1.17 environment\n",
    "3. Install the ARIBA software package in a new environment\n",
    "4. What version of Python was installed with ARIBA? Is this different to the version installed in the base environment?\n",
    "5. How many software packages were installed with ARIBA?\n",
    "6. In the ARIBA environment, what channel was ARIBA installed from?\n",
    "7. In the ARIBA environment, what channel was Python installed from?\n",
    "8. How many conda environments have been created?"
   ]
  },
  {
   "cell_type": "markdown",
   "metadata": {},
   "source": [
    "Now move on to the next part of the tutorial [Nextflow](nextflow.ipynb)"
   ]
  }
 ],
 "metadata": {
  "kernelspec": {
   "display_name": "Bash",
   "language": "bash",
   "name": "bash"
  },
  "language_info": {
   "codemirror_mode": "shell",
   "file_extension": ".sh",
   "mimetype": "text/x-sh",
   "name": "bash"
  }
 },
 "nbformat": 4,
 "nbformat_minor": 2
}
