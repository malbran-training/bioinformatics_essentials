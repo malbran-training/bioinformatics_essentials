{
 "cells": [
  {
   "cell_type": "markdown",
   "metadata": {},
   "source": [
    "# Bioinformatics Essentials\n",
    "\n",
    "## Introduction\n",
    "In this tutorial we will cover two important and essential concepts for bioinformatics analyses.\n",
    "\n",
    "* Management the installation of bionformatics software applications\n",
    "* Automating the process of data analysis with workflow managers\n",
    "\n",
    "## Learning outcomes\n",
    "On completion of the tutorial, you can expect to be able to:\n",
    "\n",
    "* Describe what a software package manager is and why it is useful\n",
    "* Install conda and use it to manage bioinformatics software applications\n",
    "* Describe what a workflow manager is and why it is useful\n",
    "* Install Nextflow and run existing Nextflow pipelines to automate NGS data analysis\n",
    "\n",
    "## Tutorial sections\n",
    "This tutorial comprises the following sections:   \n",
    " 1. [Conda](conda.ipynb) \n",
    " 2. [Nextflow](nextflow.ipynb)\n",
    " 3. [Nextflow Pipelines](nf_pipelines.ipynb) \n",
    "\n",
    "## Authors and License\n",
    "This tutorial was written by [Jacqui Keane](https://github.com/jacquikeane).\n",
    "\n",
    "The content is licensed under a [Creative Commons Attribution 4.0 International License (CC-By 4.0)](https://creativecommons.org/licenses/by/4.0/).\n",
    "\n",
    "## Running the commands in this tutorial\n",
    "You can follow this tutorial by typing all the commands you see in a terminal window on your computer. Remember, the terminal window is similar to the \"Command Prompt\" window on MS Windows systems, which allows the user to type DOS commands to manage files.\n",
    "\n",
    "To get started, open a terminal window and type the command below followed by the `Enter` key:"
   ]
  },
  {
   "cell_type": "code",
   "execution_count": null,
   "metadata": {},
   "outputs": [],
   "source": [
    "su bioinf"
   ]
  },
  {
   "cell_type": "markdown",
   "metadata": {},
   "source": [
    "When prompted for a password enter the text below followed by the `Enter` key:"
   ]
  },
  {
   "cell_type": "code",
   "execution_count": null,
   "metadata": {},
   "outputs": [],
   "source": [
    "password"
   ]
  },
  {
   "cell_type": "markdown",
   "metadata": {},
   "source": [
    "This will switch the Linux user from `manager` to `bioinf` to allow us to start from a clean non-configured set up."
   ]
  },
  {
   "cell_type": "markdown",
   "metadata": {},
   "source": [
    "## Prerequisites\n",
    "This tutorial does not assume that you have any software installed on your computer. Instead it will take you through the process of installing `conda`, some bioinformatics software (`bwa`, `mafft` and `samtools`), nextflow and some nextflow pipelines for processing NGS data."
   ]
  },
  {
   "cell_type": "markdown",
   "metadata": {},
   "source": [
    "To get started with the tutorial, go to the first section: [Conda](conda.ipynb)"
   ]
  }
 ],
 "metadata": {
  "kernelspec": {
   "display_name": "Bash",
   "language": "bash",
   "name": "bash"
  },
  "language_info": {
   "codemirror_mode": "shell",
   "file_extension": ".sh",
   "mimetype": "text/x-sh",
   "name": "bash"
  }
 },
 "nbformat": 4,
 "nbformat_minor": 2
}
