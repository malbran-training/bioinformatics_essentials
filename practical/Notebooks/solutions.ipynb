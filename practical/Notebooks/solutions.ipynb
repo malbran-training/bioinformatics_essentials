{
 "cells": [
  {
   "cell_type": "markdown",
   "metadata": {},
   "source": [
    "# Bioinformatics Essentials\n",
    "\n",
    "No exercises in this section."
   ]
  },
  {
   "cell_type": "markdown",
   "metadata": {},
   "source": [
    "# Conda\n",
    "\n",
    "## \n",
    "## \n",
    "## \n",
    "## \n",
    "## \n",
    "## Exercises\n",
    "\n",
    "__1. List all the software packages installed in the base environment__\n",
    "\n",
    "`conda list -n base`\n",
    "\n",
    "__2. List all the software packages installed in the samtools-1.17 environment__\n",
    "\n",
    "`conda list -n samtools-1.17`\n",
    "\n",
    "__3. Install the ARIBA software package in a new environment__\n",
    "\n",
    "`conda create -n ariba ariba`\n",
    "\n",
    "__4. What version of Python was installed with ARIBA? Is this different to the version installed in the base environment?__\n",
    "\n",
    "`conda list -n ariba | grep -i python`\n",
    "`conda list -n base | grep -i python`\n",
    "\n",
    "__5. How many software packages were installed with ARIBA?__\n",
    "\n",
    "`conda list -n ariba | wc -l`\n",
    "\n",
    "__6. What channel was ARIBA installed from?__\n",
    "\n",
    "`conda list -n ariba | grep -i ariba`\n",
    "\n",
    "__7. In the ARIBA environment, what channel was Python installed from?__\n",
    "\n",
    "`conda list -n ariba | grep -i python`\n",
    "\n",
    "__8. How many conda environments have been created?__\n",
    "\n",
    "`conda info --envs | wc -l`"
   ]
  },
  {
   "cell_type": "markdown",
   "metadata": {},
   "source": [
    "# Nextflow\n",
    "\n",
    "## \n",
    "## \n",
    "## \n",
    "## Exercises\n",
    "\n",
    "__1. Use the nf-core help flag to print the list command usage__\n",
    "\n",
    "`nf-core list --help`\n",
    "\n",
    "__2. List all available nf-core pipelines__\n",
    "\n",
    "`nf-core list`\n",
    "\n",
    "__3. How many nf-core pipelines are there?__\n",
    "\n",
    "There are 74 pipelines. Try:\n",
    "\n",
    "`nf-core list | grep -c dev`\n",
    "\n",
    "__4. Sort the pipelines by popularity (stars)__\n",
    "\n",
    "`nf-core list --sort stars`\n",
    "\n",
    "__5. Filter pipelines for those that work with RNA__\n",
    "\n",
    "`nf-core list RNA`"
   ]
  },
  {
   "cell_type": "markdown",
   "metadata": {},
   "source": [
    "# Nextflow Pipelines\n",
    "\n",
    "No exercises in this section."
   ]
  }
 ],
 "metadata": {
  "kernelspec": {
   "display_name": "Bash",
   "language": "bash",
   "name": "bash"
  },
  "language_info": {
   "codemirror_mode": "shell",
   "file_extension": ".sh",
   "mimetype": "text/x-sh",
   "name": "bash"
  }
 },
 "nbformat": 4,
 "nbformat_minor": 2
}
